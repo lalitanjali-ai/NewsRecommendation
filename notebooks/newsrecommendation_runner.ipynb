{
  "nbformat": 4,
  "nbformat_minor": 0,
  "metadata": {
    "colab": {
      "provenance": []
    },
    "kernelspec": {
      "name": "python3",
      "display_name": "Python 3"
    },
    "language_info": {
      "name": "python"
    },
    "accelerator": "GPU",
    "gpuClass": "standard"
  },
  "cells": [
    {
      "cell_type": "code",
      "execution_count": null,
      "metadata": {
        "colab": {
          "base_uri": "https://localhost:8080/"
        },
        "id": "1q7iWsNIvm2m",
        "outputId": "0cd59c0d-e13c-4f7b-c5c7-7138db9ed523"
      },
      "outputs": [
        {
          "output_type": "stream",
          "name": "stdout",
          "text": [
            "Cloning into 'NewsRecommendation'...\n",
            "remote: Enumerating objects: 35, done.\u001b[K\n",
            "remote: Counting objects: 100% (35/35), done.\u001b[K\n",
            "remote: Compressing objects: 100% (24/24), done.\u001b[K\n",
            "remote: Total 35 (delta 10), reused 34 (delta 9), pack-reused 0\u001b[K\n",
            "Unpacking objects: 100% (35/35), 77.75 KiB | 680.00 KiB/s, done.\n"
          ]
        }
      ],
      "source": [
        "from getpass import getpass\n",
        "PERSONAL_ACCESS_TOKEN = getpass('PERSONAL_ACCESS_TOKEN:')\n",
        "# !echo $PERSONAL_ACCESS_TOKEN\n",
        "!git clone https://$PERSONAL_ACCESS_TOKEN@github.com/lalitanjali-ai/NewsRecommendation.git"
      ]
    },
    {
      "cell_type": "markdown",
      "source": [
        "### Activating conda environment based on yaml file"
      ],
      "metadata": {
        "id": "2lkoSF0bzP9j"
      }
    },
    {
      "cell_type": "code",
      "source": [
        "%cd NewsRecommendation\n",
        "!wget https://repo.anaconda.com/miniconda/Miniconda3-latest-Linux-x86_64.sh\n",
        "!chmod +x Miniconda3-latest-Linux-x86_64.sh\n",
        "!bash ./Miniconda3-latest-Linux-x86_64.sh -b -f -p /usr/local"
      ],
      "metadata": {
        "id": "rep7XrDOwKv3"
      },
      "execution_count": null,
      "outputs": []
    },
    {
      "cell_type": "code",
      "source": [
        "import sys\n",
        "sys.path.append('/usr/local/lib/python3.7/site-packages')"
      ],
      "metadata": {
        "id": "PXsyQIbvwM5N"
      },
      "execution_count": null,
      "outputs": []
    },
    {
      "cell_type": "code",
      "source": [
        "!pwd"
      ],
      "metadata": {
        "colab": {
          "base_uri": "https://localhost:8080/"
        },
        "id": "5ok4CBoD3vC5",
        "outputId": "e73906d3-3567-419c-c5b8-1a94579aebe9"
      },
      "execution_count": null,
      "outputs": [
        {
          "output_type": "stream",
          "name": "stdout",
          "text": [
            "/content/NewsRecommendation\n"
          ]
        }
      ]
    },
    {
      "cell_type": "code",
      "source": [
        "%pip install -r requirements.txt"
      ],
      "metadata": {
        "id": "o71pBGnxt-Lq"
      },
      "execution_count": null,
      "outputs": []
    },
    {
      "cell_type": "markdown",
      "source": [
        "# Download the Data\n"
      ],
      "metadata": {
        "id": "byv9ZmsbzW95"
      }
    },
    {
      "cell_type": "code",
      "source": [
        "!chmod +x download_data.sh\n",
        "!./download_data.sh"
      ],
      "metadata": {
        "id": "m5pjngbMzeWk"
      },
      "execution_count": null,
      "outputs": []
    },
    {
      "cell_type": "markdown",
      "source": [
        "# Run the training"
      ],
      "metadata": {
        "id": "ejJk-IdXwykY"
      }
    },
    {
      "cell_type": "code",
      "source": [
        "%cd src"
      ],
      "metadata": {
        "colab": {
          "base_uri": "https://localhost:8080/"
        },
        "id": "UnfLh-sq4F21",
        "outputId": "fb7cf4c7-9e2d-43a2-ca18-c158e3cc38e1"
      },
      "execution_count": null,
      "outputs": [
        {
          "output_type": "stream",
          "name": "stdout",
          "text": [
            "/content/NewsRecommendation/src\n"
          ]
        }
      ]
    },
    {
      "cell_type": "code",
      "source": [
        "!python main.py --mode train --model_dir ../model/NRMS --batch_size 32 --epochs 5 --model NRMS --lr 0.0003 --user_log_mask False --prepare True --nGPU 1 --use_category False --use_subcategory False"
      ],
      "metadata": {
        "id": "Mrr--ypB0fOi"
      },
      "execution_count": null,
      "outputs": []
    },
    {
      "cell_type": "code",
      "source": [],
      "metadata": {
        "id": "-zeg04RXV7GH"
      },
      "execution_count": null,
      "outputs": []
    },
    {
      "cell_type": "code",
      "source": [],
      "metadata": {
        "id": "7FORnPngV7Iu"
      },
      "execution_count": null,
      "outputs": []
    },
    {
      "cell_type": "code",
      "source": [],
      "metadata": {
        "id": "tKoXs5bnV7LS"
      },
      "execution_count": null,
      "outputs": []
    },
    {
      "cell_type": "code",
      "source": [],
      "metadata": {
        "id": "XEUvI84UV7Nu"
      },
      "execution_count": null,
      "outputs": []
    },
    {
      "cell_type": "code",
      "source": [],
      "metadata": {
        "id": "LXTYb05eV7Qa"
      },
      "execution_count": null,
      "outputs": []
    },
    {
      "cell_type": "code",
      "source": [],
      "metadata": {
        "id": "9VeK4SSAV7TS"
      },
      "execution_count": null,
      "outputs": []
    },
    {
      "cell_type": "code",
      "source": [],
      "metadata": {
        "id": "ZifYjeSXV7WK"
      },
      "execution_count": null,
      "outputs": []
    }
  ]
}