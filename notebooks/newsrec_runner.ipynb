{
  "nbformat": 4,
  "nbformat_minor": 0,
  "metadata": {
    "colab": {
      "provenance": [],
      "machine_shape": "hm"
    },
    "kernelspec": {
      "name": "python3",
      "display_name": "Python 3"
    },
    "language_info": {
      "name": "python"
    },
    "accelerator": "GPU",
    "gpuClass": "premium"
  },
  "cells": [
    {
      "cell_type": "code",
      "execution_count": 12,
      "metadata": {
        "colab": {
          "base_uri": "https://localhost:8080/"
        },
        "id": "74vQS62oLk06",
        "outputId": "3cd37334-ffa0-4a8b-da01-15141c659e62"
      },
      "outputs": [
        {
          "output_type": "stream",
          "name": "stdout",
          "text": [
            "PERSONAL_ACCESS_TOKEN:··········\n",
            "Cloning into 'NewsRecommendation'...\n",
            "remote: Enumerating objects: 72, done.\u001b[K\n",
            "remote: Counting objects: 100% (72/72), done.\u001b[K\n",
            "remote: Compressing objects: 100% (48/48), done.\u001b[K\n",
            "remote: Total 72 (delta 35), reused 59 (delta 22), pack-reused 0\u001b[K\n",
            "Unpacking objects: 100% (72/72), 101.41 KiB | 278.00 KiB/s, done.\n"
          ]
        }
      ],
      "source": [
        "from getpass import getpass\n",
        "PERSONAL_ACCESS_TOKEN = getpass('PERSONAL_ACCESS_TOKEN:')\n",
        "# !echo $PERSONAL_ACCESS_TOKEN\n",
        "!git clone -b feature/init_trainer_fix https://$PERSONAL_ACCESS_TOKEN@github.com/lalitanjali-ai/NewsRecommendation.git"
      ]
    },
    {
      "cell_type": "code",
      "source": [
        "!git pull"
      ],
      "metadata": {
        "id": "g5ZZD3jcotzX",
        "outputId": "fdd67e72-ccd4-460f-c381-3959225588ec",
        "colab": {
          "base_uri": "https://localhost:8080/"
        }
      },
      "execution_count": 21,
      "outputs": [
        {
          "output_type": "stream",
          "name": "stdout",
          "text": [
            "remote: Enumerating objects: 9, done.\u001b[K\n",
            "remote: Counting objects:  11% (1/9)\u001b[K\rremote: Counting objects:  22% (2/9)\u001b[K\rremote: Counting objects:  33% (3/9)\u001b[K\rremote: Counting objects:  44% (4/9)\u001b[K\rremote: Counting objects:  55% (5/9)\u001b[K\rremote: Counting objects:  66% (6/9)\u001b[K\rremote: Counting objects:  77% (7/9)\u001b[K\rremote: Counting objects:  88% (8/9)\u001b[K\rremote: Counting objects: 100% (9/9)\u001b[K\rremote: Counting objects: 100% (9/9), done.\u001b[K\n",
            "remote: Compressing objects: 100% (1/1)\u001b[K\rremote: Compressing objects: 100% (1/1), done.\u001b[K\n",
            "remote: Total 5 (delta 4), reused 5 (delta 4), pack-reused 0\u001b[K\n",
            "Unpacking objects:  20% (1/5)\rUnpacking objects:  40% (2/5)\rUnpacking objects:  60% (3/5)\rUnpacking objects:  80% (4/5)\rUnpacking objects: 100% (5/5)\rUnpacking objects: 100% (5/5), 443 bytes | 443.00 KiB/s, done.\n",
            "From https://github.com/lalitanjali-ai/NewsRecommendation\n",
            "   a00888c..21027db  feature/init_trainer_fix -> origin/feature/init_trainer_fix\n",
            "Updating a00888c..21027db\n",
            "Fast-forward\n",
            " src/main.py       | 11 \u001b[32m+++++\u001b[m\u001b[31m------\u001b[m\n",
            " src/parameters.py |  2 \u001b[32m+\u001b[m\u001b[31m-\u001b[m\n",
            " 2 files changed, 6 insertions(+), 7 deletions(-)\n"
          ]
        }
      ]
    },
    {
      "cell_type": "code",
      "source": [
        "%load_ext autoreload\n",
        "%autoreload 2"
      ],
      "metadata": {
        "id": "3VaFGs8sopUs",
        "outputId": "6e816449-ac5b-4345-9464-3783ed45aca5",
        "colab": {
          "base_uri": "https://localhost:8080/"
        }
      },
      "execution_count": 22,
      "outputs": [
        {
          "output_type": "stream",
          "name": "stdout",
          "text": [
            "The autoreload extension is already loaded. To reload it, use:\n",
            "  %reload_ext autoreload\n"
          ]
        }
      ]
    },
    {
      "cell_type": "markdown",
      "source": [
        "# Activating environment"
      ],
      "metadata": {
        "id": "BO-ncZ9HiHGp"
      }
    },
    {
      "cell_type": "code",
      "source": [
        "%cd NewsRecommendation\n",
        "!wget https://repo.anaconda.com/miniconda/Miniconda3-latest-Linux-x86_64.sh\n",
        "!chmod +x Miniconda3-latest-Linux-x86_64.sh\n",
        "!bash ./Miniconda3-latest-Linux-x86_64.sh -b -f -p /usr/local\n",
        "     "
      ],
      "metadata": {
        "colab": {
          "base_uri": "https://localhost:8080/"
        },
        "id": "-OdcLSufLnJX",
        "outputId": "991782e0-6ac5-4d6c-fde0-a63dd21038b9"
      },
      "execution_count": 13,
      "outputs": [
        {
          "output_type": "stream",
          "name": "stdout",
          "text": [
            "/content/NewsRecommendation/src/NewsRecommendation\n",
            "--2023-04-20 16:40:04--  https://repo.anaconda.com/miniconda/Miniconda3-latest-Linux-x86_64.sh\n",
            "Resolving repo.anaconda.com (repo.anaconda.com)... 104.16.131.3, 104.16.130.3, 2606:4700::6810:8203, ...\n",
            "Connecting to repo.anaconda.com (repo.anaconda.com)|104.16.131.3|:443... connected.\n",
            "HTTP request sent, awaiting response... 200 OK\n",
            "Length: 74403966 (71M) [application/x-sh]\n",
            "Saving to: ‘Miniconda3-latest-Linux-x86_64.sh’\n",
            "\n",
            "Miniconda3-latest-L 100%[===================>]  70.96M   209MB/s    in 0.3s    \n",
            "\n",
            "2023-04-20 16:40:04 (209 MB/s) - ‘Miniconda3-latest-Linux-x86_64.sh’ saved [74403966/74403966]\n",
            "\n",
            "PREFIX=/usr/local\n",
            "Unpacking payload ...\n",
            "                                                                            \n",
            "Installing base environment...\n",
            "\n",
            "\n",
            "Downloading and Extracting Packages\n",
            "\n",
            "Preparing transaction: - \b\bdone\n",
            "Executing transaction: | \b\bdone\n",
            "installation finished.\n",
            "WARNING:\n",
            "    You currently have a PYTHONPATH environment variable set. This may cause\n",
            "    unexpected behavior when running the Python interpreter in Miniconda3.\n",
            "    For best results, please verify that your PYTHONPATH only points to\n",
            "    directories of packages that are compatible with the Python interpreter\n",
            "    in Miniconda3: /usr/local\n"
          ]
        }
      ]
    },
    {
      "cell_type": "code",
      "source": [
        "import sys\n",
        "sys.path.append('/usr/local/lib/python3.7/site-packages')\n",
        "    "
      ],
      "metadata": {
        "id": "7adg2ygkL1E8"
      },
      "execution_count": 14,
      "outputs": []
    },
    {
      "cell_type": "code",
      "source": [
        "%pip install -r requirements.txt"
      ],
      "metadata": {
        "id": "m81X-lO2L5Xa"
      },
      "execution_count": null,
      "outputs": []
    },
    {
      "cell_type": "markdown",
      "source": [
        "# Download data"
      ],
      "metadata": {
        "id": "HDOnF4cdiKei"
      }
    },
    {
      "cell_type": "code",
      "source": [
        "!chmod +x download_data.sh\n",
        "!./download_data.sh"
      ],
      "metadata": {
        "id": "uUROGhxML8LO"
      },
      "execution_count": null,
      "outputs": []
    },
    {
      "cell_type": "markdown",
      "source": [
        "# Run training"
      ],
      "metadata": {
        "id": "ebpBE6cbiM_F"
      }
    },
    {
      "cell_type": "code",
      "source": [
        "%cd src"
      ],
      "metadata": {
        "id": "IhGlftFDMCYW"
      },
      "execution_count": null,
      "outputs": []
    },
    {
      "cell_type": "code",
      "source": [
        "!python main.py --mode train --model_dir ../model/NRMS --batch_size 32 --epochs 5 --model NRMS --lr 0.00003 --user_log_mask False --prepare True --nGPU 1 --use_category False --use_subcategory False"
      ],
      "metadata": {
        "colab": {
          "base_uri": "https://localhost:8080/"
        },
        "id": "bHdyP6ZhMDH7",
        "outputId": "7cf32a28-632c-4b46-bd6e-1846c91a34f1"
      },
      "execution_count": null,
      "outputs": [
        {
          "output_type": "stream",
          "name": "stdout",
          "text": [
            "[nltk_data] Downloading package punkt to /root/nltk_data...\n",
            "[nltk_data]   Package punkt is already up-to-date!\n",
            "[INFO 2023-04-20 17:08:08,732] args[batch_size]=32\n",
            "[INFO 2023-04-20 17:08:08,732] args[category_emb_dim]=100\n",
            "[INFO 2023-04-20 17:08:08,732] args[drop_rate]=0.2\n",
            "[INFO 2023-04-20 17:08:08,732] args[enable_gpu]=True\n",
            "[INFO 2023-04-20 17:08:08,732] args[epochs]=5\n",
            "[INFO 2023-04-20 17:08:08,732] args[filter_num]=3\n",
            "[INFO 2023-04-20 17:08:08,732] args[freeze_embedding]=False\n",
            "[INFO 2023-04-20 17:08:08,732] args[glove_embedding_path]=../data/glove.840B.300d.txt\n",
            "[INFO 2023-04-20 17:08:08,732] args[load_ckpt_name]=None\n",
            "[INFO 2023-04-20 17:08:08,732] args[log_steps]=100\n",
            "[INFO 2023-04-20 17:08:08,733] args[lr]=3e-05\n",
            "[INFO 2023-04-20 17:08:08,733] args[mode]=train\n",
            "[INFO 2023-04-20 17:08:08,733] args[model]=NRMS\n",
            "[INFO 2023-04-20 17:08:08,733] args[model_dir]=../model/NRMS\n",
            "[INFO 2023-04-20 17:08:08,733] args[nGPU]=1\n",
            "[INFO 2023-04-20 17:08:08,733] args[news_dim]=400\n",
            "[INFO 2023-04-20 17:08:08,733] args[news_query_vector_dim]=200\n",
            "[INFO 2023-04-20 17:08:08,733] args[npratio]=4\n",
            "[INFO 2023-04-20 17:08:08,733] args[num_attention_heads]=20\n",
            "[INFO 2023-04-20 17:08:08,733] args[num_words_abstract]=50\n",
            "[INFO 2023-04-20 17:08:08,733] args[num_words_title]=20\n",
            "[INFO 2023-04-20 17:08:08,733] args[prepare]=True\n",
            "[INFO 2023-04-20 17:08:08,733] args[save_steps]=10000\n",
            "[INFO 2023-04-20 17:08:08,733] args[seed]=0\n",
            "[INFO 2023-04-20 17:08:08,733] args[start_epoch]=0\n",
            "[INFO 2023-04-20 17:08:08,733] args[test_data_dir]=../data/MINDsmall_dev\n",
            "[INFO 2023-04-20 17:08:08,733] args[train_data_dir]=../data/MINDsmall_train\n",
            "[INFO 2023-04-20 17:08:08,733] args[use_category]=False\n",
            "[INFO 2023-04-20 17:08:08,733] args[use_subcategory]=False\n",
            "[INFO 2023-04-20 17:08:08,733] args[user_log_length]=50\n",
            "[INFO 2023-04-20 17:08:08,733] args[user_log_mask]=False\n",
            "[INFO 2023-04-20 17:08:08,733] args[user_query_vector_dim]=200\n",
            "[INFO 2023-04-20 17:08:08,733] args[word_embedding_dim]=300\n",
            "[INFO 2023-04-20 17:08:08,733] args[word_embedding_type]=glove\n",
            "[INFO 2023-04-20 17:08:08,734] Preparing training data...\n",
            "156965it [00:02, 52885.10it/s]\n",
            "[INFO 2023-04-20 17:08:11,895] Writing files...\n",
            "[INFO 2023-04-20 17:08:12,105] 236344 training samples, 7385 batches in total.\n",
            "51282it [00:06, 7400.57it/s]\n",
            "100% 51282/51282 [00:00<00:00, 225253.95it/s]\n",
            "[INFO 2023-04-20 17:08:19,310] Initializing word embedding matrix...\n",
            "[INFO 2023-04-20 17:08:52,841] Word dict length: 12506\n",
            "[INFO 2023-04-20 17:08:52,841] Have words: 11947\n",
            "[INFO 2023-04-20 17:08:52,841] Missing rate: 0.0446985446985447\n",
            "Model(\n",
            "  (news_encoder): NewsEncoder(\n",
            "    (embedding_matrix): Embedding(12507, 300, padding_idx=0)\n",
            "    (multi_head_self_attn): MultiHeadSelfAttention(\n",
            "      (W_Q): Linear(in_features=300, out_features=400, bias=True)\n",
            "      (W_K): Linear(in_features=300, out_features=400, bias=True)\n",
            "      (W_V): Linear(in_features=300, out_features=400, bias=True)\n",
            "      (scaled_dot_product_attn): ScaledDotProductAttention()\n",
            "    )\n",
            "    (attn): AttentionPooling(\n",
            "      (att_fc1): Linear(in_features=400, out_features=200, bias=True)\n",
            "      (att_fc2): Linear(in_features=200, out_features=1, bias=True)\n",
            "    )\n",
            "  )\n",
            "  (user_encoder): UserEncoder(\n",
            "    (multi_head_self_attn): MultiHeadSelfAttention(\n",
            "      (W_Q): Linear(in_features=400, out_features=400, bias=True)\n",
            "      (W_K): Linear(in_features=400, out_features=400, bias=True)\n",
            "      (W_V): Linear(in_features=400, out_features=400, bias=True)\n",
            "      (scaled_dot_product_attn): ScaledDotProductAttention()\n",
            "    )\n",
            "    (attn): AttentionPooling(\n",
            "      (att_fc1): Linear(in_features=400, out_features=200, bias=True)\n",
            "      (att_fc2): Linear(in_features=200, out_features=1, bias=True)\n",
            "    )\n",
            "  )\n",
            "  (loss_fn): CrossEntropyLoss()\n",
            ")\n",
            "news_encoder.embedding_matrix.weight True\n",
            "news_encoder.multi_head_self_attn.W_Q.weight True\n",
            "news_encoder.multi_head_self_attn.W_Q.bias True\n",
            "news_encoder.multi_head_self_attn.W_K.weight True\n",
            "news_encoder.multi_head_self_attn.W_K.bias True\n",
            "news_encoder.multi_head_self_attn.W_V.weight True\n",
            "news_encoder.multi_head_self_attn.W_V.bias True\n",
            "news_encoder.attn.att_fc1.weight True\n",
            "news_encoder.attn.att_fc1.bias True\n",
            "news_encoder.attn.att_fc2.weight True\n",
            "news_encoder.attn.att_fc2.bias True\n",
            "user_encoder.pad_doc True\n",
            "user_encoder.multi_head_self_attn.W_Q.weight True\n",
            "user_encoder.multi_head_self_attn.W_Q.bias True\n",
            "user_encoder.multi_head_self_attn.W_K.weight True\n",
            "user_encoder.multi_head_self_attn.W_K.bias True\n",
            "user_encoder.multi_head_self_attn.W_V.weight True\n",
            "user_encoder.multi_head_self_attn.W_V.bias True\n",
            "user_encoder.attn.att_fc1.weight True\n",
            "user_encoder.attn.att_fc1.bias True\n",
            "user_encoder.attn.att_fc2.weight True\n",
            "user_encoder.attn.att_fc2.bias True\n",
            "[INFO 2023-04-20 17:08:56,643] Training...\n",
            "[INFO 2023-04-20 17:08:59,752] [0] Ed: 0, train_loss: inf, acc: inf\n",
            "[INFO 2023-04-20 17:09:02,252] [0] Ed: 3200, train_loss: 1.62729, acc: 0.26156\n",
            "[INFO 2023-04-20 17:09:04,741] [0] Ed: 6400, train_loss: 1.60839, acc: 0.27172\n",
            "[INFO 2023-04-20 17:09:07,148] [0] Ed: 9600, train_loss: 1.60034, acc: 0.27948\n",
            "[INFO 2023-04-20 17:09:09,560] [0] Ed: 12800, train_loss: 1.59478, acc: 0.28117\n",
            "[INFO 2023-04-20 17:09:11,979] [0] Ed: 16000, train_loss: 1.58953, acc: 0.28600\n",
            "[INFO 2023-04-20 17:09:14,459] [0] Ed: 19200, train_loss: 1.58453, acc: 0.29036\n",
            "[INFO 2023-04-20 17:09:16,940] [0] Ed: 22400, train_loss: 1.58037, acc: 0.29433\n",
            "[INFO 2023-04-20 17:09:19,393] [0] Ed: 25600, train_loss: 1.57864, acc: 0.29527\n",
            "[INFO 2023-04-20 17:09:21,835] [0] Ed: 28800, train_loss: 1.57477, acc: 0.29920\n"
          ]
        }
      ]
    },
    {
      "cell_type": "code",
      "source": [],
      "metadata": {
        "id": "YbYl3s18hmTX"
      },
      "execution_count": null,
      "outputs": []
    }
  ]
}